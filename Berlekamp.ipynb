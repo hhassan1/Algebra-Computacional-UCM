{
 "cells": [
  {
   "cell_type": "code",
   "execution_count": 1,
   "metadata": {
    "collapsed": false,
    "deletable": true,
    "editable": true
   },
   "outputs": [],
   "source": [
    "from algebra_computacional.factories import *\n",
    "from algebra_computacional.parsers import *"
   ]
  },
  {
   "cell_type": "code",
   "execution_count": 2,
   "metadata": {
    "collapsed": false,
    "deletable": true,
    "editable": true
   },
   "outputs": [],
   "source": [
    "GF9_X = GaloisPolynomialFactory(3,'a^2 - a - 1','x')\n",
    "a = GF9_X('x^3 + x^2 + x - a')"
   ]
  },
  {
   "cell_type": "code",
   "execution_count": 3,
   "metadata": {
    "collapsed": false,
    "deletable": true,
    "editable": true
   },
   "outputs": [
    {
     "name": "stdout",
     "output_type": "stream",
     "text": [
      "(x^3 + x^2 + x + (-a))\n"
     ]
    }
   ],
   "source": [
    "for x in a.squarefree():\n",
    "    print str(x)"
   ]
  },
  {
   "cell_type": "code",
   "execution_count": 4,
   "metadata": {
    "collapsed": false,
    "deletable": true,
    "editable": true
   },
   "outputs": [
    {
     "name": "stdout",
     "output_type": "stream",
     "text": [
      "Factors of degree 1 with product (x + (a))\n",
      "Factors of degree 2 with product (x^2 + (-a + 1)x - 1)\n"
     ]
    }
   ],
   "source": [
    "for x in a.distinctdegree():\n",
    "    print 'Factors of degree', x[1], 'with product', x[0]"
   ]
  },
  {
   "cell_type": "code",
   "execution_count": 5,
   "metadata": {
    "collapsed": false,
    "deletable": true,
    "editable": true
   },
   "outputs": [
    {
     "name": "stdout",
     "output_type": "stream",
     "text": [
      "(x^2 + (-a + 1)x - 1)\n"
     ]
    }
   ],
   "source": [
    "print a.berlekamp_splitting(a.frob_basis())"
   ]
  },
  {
   "cell_type": "code",
   "execution_count": 7,
   "metadata": {
    "collapsed": false,
    "deletable": true,
    "editable": true
   },
   "outputs": [
    {
     "name": "stdout",
     "output_type": "stream",
     "text": [
      "(x^2 + (-a + 1)x - 1)\n",
      "(x + (a))\n"
     ]
    }
   ],
   "source": [
    "b = a.berlekamp()\n",
    "for x in b:\n",
    "    print x"
   ]
  },
  {
   "cell_type": "code",
   "execution_count": 8,
   "metadata": {
    "collapsed": false,
    "deletable": true,
    "editable": true,
    "scrolled": true
   },
   "outputs": [
    {
     "name": "stdout",
     "output_type": "stream",
     "text": [
      "(x^2 + (-a + 1)x - 1)\n",
      "(x + (a))\n"
     ]
    }
   ],
   "source": [
    "b = a.bcz()\n",
    "for x in b:\n",
    "    print x"
   ]
  },
  {
   "cell_type": "code",
   "execution_count": 9,
   "metadata": {
    "collapsed": false,
    "deletable": true,
    "editable": true
   },
   "outputs": [
    {
     "name": "stdout",
     "output_type": "stream",
     "text": [
      "(x + (a))\n",
      "(x^2 + (-a + 1)x - 1)\n"
     ]
    }
   ],
   "source": [
    "b = a.factors1()\n",
    "for x in b:\n",
    "    print x"
   ]
  },
  {
   "cell_type": "code",
   "execution_count": 10,
   "metadata": {
    "collapsed": false,
    "deletable": true,
    "editable": true
   },
   "outputs": [
    {
     "name": "stdout",
     "output_type": "stream",
     "text": [
      "(x + (a))\n",
      "(x^2 + (-a + 1)x - 1)\n"
     ]
    }
   ],
   "source": [
    "b = a.factors2()\n",
    "for x in b:\n",
    "    print x"
   ]
  },
  {
   "cell_type": "code",
   "execution_count": 11,
   "metadata": {
    "collapsed": false,
    "deletable": true,
    "editable": true
   },
   "outputs": [],
   "source": [
    "from algebra_computacional.factories import *\n",
    "from algebra_computacional.parsers import *\n",
    "GF3_X = GaloisPolynomialFactory(7)\n",
    "a = GF3_X('x^7 + 2x^5 + x^4 - 2x^3 + x^2 - 3x - 3')"
   ]
  },
  {
   "cell_type": "code",
   "execution_count": 12,
   "metadata": {
    "collapsed": false,
    "deletable": true,
    "editable": true
   },
   "outputs": [
    {
     "name": "stdout",
     "output_type": "stream",
     "text": [
      "(x^2 - 3x - 2)\n",
      "(x^2 + 3x - 2)\n",
      "(x^3 + x + 1)\n"
     ]
    }
   ],
   "source": [
    "for x in a.factors2():\n",
    "    print x"
   ]
  },
  {
   "cell_type": "code",
   "execution_count": 13,
   "metadata": {
    "collapsed": false,
    "deletable": true,
    "editable": true
   },
   "outputs": [
    {
     "name": "stdout",
     "output_type": "stream",
     "text": [
      "(x^2 - 3x - 2)\n",
      "(x^2 + 3x - 2)\n",
      "(x^3 + x + 1)\n"
     ]
    }
   ],
   "source": [
    "for x in a.factors1():\n",
    "    print x"
   ]
  },
  {
   "cell_type": "code",
   "execution_count": 14,
   "metadata": {
    "collapsed": false,
    "deletable": true,
    "editable": true
   },
   "outputs": [
    {
     "name": "stdout",
     "output_type": "stream",
     "text": [
      "(x^2 + 3x - 2)\n",
      "(x^3 + x + 1)\n",
      "(x^2 - 3x - 2)\n"
     ]
    }
   ],
   "source": [
    "for x in a.berlekamp():\n",
    "    print x"
   ]
  }
 ],
 "metadata": {
  "kernelspec": {
   "display_name": "Python 2",
   "language": "python",
   "name": "python2"
  },
  "language_info": {
   "codemirror_mode": {
    "name": "ipython",
    "version": 2
   },
   "file_extension": ".py",
   "mimetype": "text/x-python",
   "name": "python",
   "nbconvert_exporter": "python",
   "pygments_lexer": "ipython2",
   "version": "2.7.6"
  }
 },
 "nbformat": 4,
 "nbformat_minor": 0
}
