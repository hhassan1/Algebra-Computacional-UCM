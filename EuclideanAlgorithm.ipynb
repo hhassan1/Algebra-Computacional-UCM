{
 "cells": [
  {
   "cell_type": "code",
   "execution_count": 1,
   "metadata": {
    "collapsed": false
   },
   "outputs": [],
   "source": [
    "from algebra_computacional.factories import *\n",
    "from algebra_computacional.parsers import *"
   ]
  },
  {
   "cell_type": "code",
   "execution_count": 2,
   "metadata": {
    "collapsed": false
   },
   "outputs": [
    {
     "name": "stdout",
     "output_type": "stream",
     "text": [
      "(7, -53, 145)\n"
     ]
    }
   ],
   "source": [
    "Integers = IntegerFactory()\n",
    "n = Integers(8771)\n",
    "m = Integers(3206)\n",
    "print n.eea(m)"
   ]
  },
  {
   "cell_type": "code",
   "execution_count": 3,
   "metadata": {
    "collapsed": false
   },
   "outputs": [
    {
     "name": "stdout",
     "output_type": "stream",
     "text": [
      "x^3 + x^2 + -1\n"
     ]
    }
   ],
   "source": [
    "n = Z_X('x^8 + 2x^7 + 4x^6 - 2x^5 - 3x^4 +4x^3 + 9x^2 - 2x -5')\n",
    "m = Z_X('5x^5 - 2x^4 - 13x^3 - 11x^2 + 7x + 6')\n",
    "print n.pea(m)"
   ]
  },
  {
   "cell_type": "code",
   "execution_count": 6,
   "metadata": {
    "collapsed": false
   },
   "outputs": [
    {
     "name": "stdout",
     "output_type": "stream",
     "text": [
      "2x + 3\n",
      "x^2 + x + 2\n",
      "4x^3 + 4x^2 + 3x + 1\n"
     ]
    }
   ],
   "source": [
    "GF5_X = GaloisPolynomialFactory(5)\n",
    "n = GF5_X('x^5 + x^4 + x^3 + x + 1')\n",
    "m = GF5_X('x^4 + x^3 + x^2 + x + 1')\n",
    "q, s ,t = n.eea(m)\n",
    "print q\n",
    "print s\n",
    "print t"
   ]
  }
 ],
 "metadata": {
  "kernelspec": {
   "display_name": "Python 2",
   "language": "python",
   "name": "python2"
  },
  "language_info": {
   "codemirror_mode": {
    "name": "ipython",
    "version": 2
   },
   "file_extension": ".py",
   "mimetype": "text/x-python",
   "name": "python",
   "nbconvert_exporter": "python",
   "pygments_lexer": "ipython2",
   "version": "2.7.11"
  }
 },
 "nbformat": 4,
 "nbformat_minor": 0
}
