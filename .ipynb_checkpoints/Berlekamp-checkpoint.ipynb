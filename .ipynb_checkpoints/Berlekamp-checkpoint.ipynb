{
 "cells": [
  {
   "cell_type": "code",
   "execution_count": 1,
   "metadata": {
    "collapsed": false
   },
   "outputs": [],
   "source": [
    "from algebra_computacional.factories import *\n",
    "from algebra_computacional.parsers import *"
   ]
  },
  {
   "cell_type": "code",
   "execution_count": 2,
   "metadata": {
    "collapsed": false
   },
   "outputs": [],
   "source": [
    "GF9_X = GaloisPolynomialFactory(3,'a^2 - a - 1','x')\n",
    "a = GF9_X('x^3 + x^2 + x - a')"
   ]
  },
  {
   "cell_type": "code",
   "execution_count": 3,
   "metadata": {
    "collapsed": false
   },
   "outputs": [
    {
     "name": "stdout",
     "output_type": "stream",
     "text": [
      "x^3 + x^2 + x + 2a\n"
     ]
    }
   ],
   "source": [
    "SQFREE_a = a.squarefree()\n",
    "for x in SQFREE_a:\n",
    "    print str(x)"
   ]
  },
  {
   "cell_type": "code",
   "execution_count": 4,
   "metadata": {
    "collapsed": false
   },
   "outputs": [
    {
     "name": "stdout",
     "output_type": "stream",
     "text": [
      "x + a of degree 1\n",
      "x^2 + 2a + 1x + 2 of degree 2\n"
     ]
    }
   ],
   "source": [
    "DISTINCT_a = a.distinctdegree()\n",
    "for x in DISTINCT_a:\n",
    "    print str(x[0]), 'of degree', x[1]"
   ]
  },
  {
   "cell_type": "code",
   "execution_count": 5,
   "metadata": {
    "collapsed": false
   },
   "outputs": [
    {
     "name": "stdout",
     "output_type": "stream",
     "text": [
      "x^2 + 2a + 1x + 2\n"
     ]
    }
   ],
   "source": [
    "print a.berlekamp_splitting(a.frob_basis())"
   ]
  },
  {
   "cell_type": "code",
   "execution_count": 6,
   "metadata": {
    "collapsed": false
   },
   "outputs": [
    {
     "name": "stdout",
     "output_type": "stream",
     "text": [
      "x^2 + 2a + 1x + 2\n",
      "x + a\n"
     ]
    }
   ],
   "source": [
    "b = a.berlekamp()\n",
    "for x in b:\n",
    "    print x"
   ]
  },
  {
   "cell_type": "code",
   "execution_count": 7,
   "metadata": {
    "collapsed": false,
    "scrolled": true
   },
   "outputs": [
    {
     "name": "stdout",
     "output_type": "stream",
     "text": [
      "x + a\n",
      "x^2 + 2a + 1x + 2\n"
     ]
    }
   ],
   "source": [
    "b = a.bcz()\n",
    "for x in b:\n",
    "    print x"
   ]
  },
  {
   "cell_type": "code",
   "execution_count": 8,
   "metadata": {
    "collapsed": false
   },
   "outputs": [
    {
     "name": "stdout",
     "output_type": "stream",
     "text": [
      "x + a\n",
      "x^2 + 2a + 1x + 2\n"
     ]
    }
   ],
   "source": [
    "b = a.factors1()\n",
    "for x in b:\n",
    "    print x"
   ]
  },
  {
   "cell_type": "code",
   "execution_count": 9,
   "metadata": {
    "collapsed": false
   },
   "outputs": [
    {
     "name": "stdout",
     "output_type": "stream",
     "text": [
      "x + a\n",
      "x^2 + 2a + 1x + 2\n"
     ]
    }
   ],
   "source": [
    "b = a.factors2()\n",
    "for x in b:\n",
    "    print x"
   ]
  }
 ],
 "metadata": {
  "kernelspec": {
   "display_name": "Python 2",
   "language": "python",
   "name": "python2"
  },
  "language_info": {
   "codemirror_mode": {
    "name": "ipython",
    "version": 2
   },
   "file_extension": ".py",
   "mimetype": "text/x-python",
   "name": "python",
   "nbconvert_exporter": "python",
   "pygments_lexer": "ipython2",
   "version": "2.7.11"
  }
 },
 "nbformat": 4,
 "nbformat_minor": 0
}
