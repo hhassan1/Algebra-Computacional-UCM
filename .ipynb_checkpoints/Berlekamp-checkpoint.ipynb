{
 "cells": [
  {
   "cell_type": "code",
   "execution_count": null,
   "metadata": {
    "collapsed": true
   },
   "outputs": [],
   "source": [
    "from algebra_computacional.factories import *\n",
    "from algebra_computacional.parsers import *"
   ]
  },
  {
   "cell_type": "code",
   "execution_count": null,
   "metadata": {
    "collapsed": true
   },
   "outputs": [],
   "source": [
    "GF9_X = GaloisPolynomialFactory(3,'a^2 - a - 1','x')\n",
    "a = GF9_X('x^3 + x + a')\n",
    "b = GF9_X('(-2*a) x^2 + 1')"
   ]
  },
  {
   "cell_type": "code",
   "execution_count": null,
   "metadata": {
    "collapsed": true
   },
   "outputs": [],
   "source": [
    "SQFREE_a = a.squarefree()\n",
    "for x in SQFREE_a:\n",
    "    print str(x)"
   ]
  },
  {
   "cell_type": "code",
   "execution_count": null,
   "metadata": {
    "collapsed": true
   },
   "outputs": [],
   "source": [
    "DISTINCT_a = a.distinctdegree()\n",
    "for x in DISTINCT_a:\n",
    "    print str(x[0]), 'of degree', x[1]"
   ]
  }
 ],
 "metadata": {
  "kernelspec": {
   "display_name": "Python 2",
   "language": "python",
   "name": "python2"
  },
  "language_info": {
   "codemirror_mode": {
    "name": "ipython",
    "version": 2
   },
   "file_extension": ".py",
   "mimetype": "text/x-python",
   "name": "python",
   "nbconvert_exporter": "python",
   "pygments_lexer": "ipython2",
   "version": "2.7.11"
  }
 },
 "nbformat": 4,
 "nbformat_minor": 0
}
