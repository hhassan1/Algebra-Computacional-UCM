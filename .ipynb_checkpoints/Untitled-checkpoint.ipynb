{
 "cells": [
  {
   "cell_type": "code",
   "execution_count": null,
   "metadata": {
    "collapsed": false
   },
   "outputs": [],
   "source": [
    "from algebra_computacional.factories import *\n",
    "from algebra_computacional.parsers import *\n",
    "from IPython.core.debugger import Tracer\n",
    "set_trace = Tracer()"
   ]
  },
  {
   "cell_type": "code",
   "execution_count": null,
   "metadata": {
    "collapsed": false
   },
   "outputs": [],
   "source": [
    "#set_trace()\n",
    "GF9 = GF(3,'a^2 - a - 1')\n",
    "#GF9_X = PolynomialFactory(GF9,'x')\n",
    "GF11_X = GaloisPolynomialFactory(11)\n",
    "GF9_X = GaloisPolynomialFactory(3,'a^2 - a - 1','x')"
   ]
  },
  {
   "cell_type": "code",
   "execution_count": null,
   "metadata": {
    "collapsed": false
   },
   "outputs": [],
   "source": [
    "#a = GF11_X('x^15 - 1')\n",
    "a = GF9_X('(a^2 + a)x^3 + a')\n",
    "b = GF9_X('a^2 + a')\n",
    "print str(a), str(b)"
   ]
  },
  {
   "cell_type": "code",
   "execution_count": null,
   "metadata": {
    "collapsed": false
   },
   "outputs": [],
   "source": [
    "SQFREE_a = a.squarefree()\n",
    "DISTINCT_a = a.distinctdegree()"
   ]
  },
  {
   "cell_type": "code",
   "execution_count": null,
   "metadata": {
    "collapsed": false
   },
   "outputs": [],
   "source": [
    "for x in SQFREE_a:\n",
    "    print str(x)\n",
    "for x in DISTINCT_a:\n",
    "    print str(x[0]), 'of degree', x[1]"
   ]
  },
  {
   "cell_type": "code",
   "execution_count": null,
   "metadata": {
    "collapsed": false
   },
   "outputs": [],
   "source": [
    "set_trace()\n",
    "str(a/b)"
   ]
  },
  {
   "cell_type": "code",
   "execution_count": null,
   "metadata": {
    "collapsed": false
   },
   "outputs": [],
   "source": [
    "c = GF9('a')\n",
    "d = GF9('a^2 + a')\n"
   ]
  },
  {
   "cell_type": "code",
   "execution_count": 1,
   "metadata": {
    "collapsed": false
   },
   "outputs": [],
   "source": [
    "from algebra_computacional.factories import *\n",
    "from algebra_computacional.parsers import *\n",
    "from IPython.core.debugger import Tracer\n",
    "set_trace = Tracer()\n",
    "#set_trace()\n",
    "GF3 = GF(3)\n",
    "GF3_X = GaloisPolynomialFactory(3)\n",
    "a = GF3_X('x^2 + x + 2')\n",
    "b = GF3_X('x^2 + 2x + 2')\n",
    "#c = GF3('a^2 + a')\n",
    "#set_trace()\n",
    "#print a/b"
   ]
  },
  {
   "cell_type": "code",
   "execution_count": 2,
   "metadata": {
    "collapsed": false
   },
   "outputs": [],
   "source": [
    "equations = [(GF3_X('x + 1'),a),(GF3_X('2x'),b)]"
   ]
  },
  {
   "cell_type": "code",
   "execution_count": 3,
   "metadata": {
    "collapsed": false
   },
   "outputs": [],
   "source": [
    "ret = PolynomialOverGalois.chinese_remainder(equations)"
   ]
  },
  {
   "cell_type": "code",
   "execution_count": 4,
   "metadata": {
    "collapsed": false
   },
   "outputs": [
    {
     "data": {
      "text/plain": [
       "'x^3 + 2x^2 + x'"
      ]
     },
     "execution_count": 4,
     "metadata": {},
     "output_type": "execute_result"
    }
   ],
   "source": [
    "str(ret)"
   ]
  },
  {
   "cell_type": "code",
   "execution_count": 5,
   "metadata": {
    "collapsed": false
   },
   "outputs": [],
   "source": [
    "Gauss = GaussianIntegerFactory()"
   ]
  },
  {
   "cell_type": "code",
   "execution_count": 6,
   "metadata": {
    "collapsed": false
   },
   "outputs": [],
   "source": [
    "aux = Gauss('135 - 14i')\n",
    "aux2 = Gauss('155 + 34i')"
   ]
  },
  {
   "cell_type": "code",
   "execution_count": 7,
   "metadata": {
    "collapsed": false
   },
   "outputs": [
    {
     "data": {
      "text/plain": [
       "'-6760i + 20449'"
      ]
     },
     "execution_count": 7,
     "metadata": {},
     "output_type": "execute_result"
    }
   ],
   "source": [
    "str(aux * aux2.conjugate())"
   ]
  },
  {
   "cell_type": "code",
   "execution_count": 8,
   "metadata": {
    "collapsed": false
   },
   "outputs": [
    {
     "name": "stdout",
     "output_type": "stream",
     "text": [
      "--Return--\n",
      "None\n",
      "> \u001b[1;32m<ipython-input-8-4c585be78a36>\u001b[0m(1)\u001b[0;36m<module>\u001b[1;34m()\u001b[0m\n",
      "\u001b[1;32m----> 1 \u001b[1;33m\u001b[0mset_trace\u001b[0m\u001b[1;33m(\u001b[0m\u001b[1;33m)\u001b[0m\u001b[1;33m\u001b[0m\u001b[0m\n",
      "\u001b[0m\u001b[1;32m      2 \u001b[1;33m\u001b[0mg\u001b[0m\u001b[1;33m,\u001b[0m \u001b[0mu\u001b[0m\u001b[1;33m,\u001b[0m \u001b[0mv\u001b[0m \u001b[1;33m=\u001b[0m \u001b[0maux\u001b[0m\u001b[1;33m.\u001b[0m\u001b[0meea\u001b[0m\u001b[1;33m(\u001b[0m\u001b[0maux2\u001b[0m\u001b[1;33m)\u001b[0m\u001b[1;33m\u001b[0m\u001b[0m\n",
      "\u001b[0m\n",
      "ipdb> c\n",
      "20449 -6760 25181 0.812080536913 -0.268456375839\n",
      "(1) + (0)i\n",
      "-4732 6760 2704 -1.75 2.5\n",
      "(-2) + (3)i\n",
      "676 1352 845 0.8 1.6\n",
      "(1) + (2)i\n",
      "-169 338 169 -1.0 2.0\n",
      "(-1) + (2)i\n"
     ]
    }
   ],
   "source": [
    "set_trace()\n",
    "g, u, v = aux.eea(aux2)"
   ]
  },
  {
   "cell_type": "code",
   "execution_count": 9,
   "metadata": {
    "collapsed": false
   },
   "outputs": [
    {
     "name": "stdout",
     "output_type": "stream",
     "text": [
      "12i + 5\n"
     ]
    }
   ],
   "source": [
    "print g"
   ]
  },
  {
   "cell_type": "code",
   "execution_count": null,
   "metadata": {
    "collapsed": true
   },
   "outputs": [],
   "source": []
  }
 ],
 "metadata": {
  "kernelspec": {
   "display_name": "Python 2",
   "language": "python",
   "name": "python2"
  },
  "language_info": {
   "codemirror_mode": {
    "name": "ipython",
    "version": 2
   },
   "file_extension": ".py",
   "mimetype": "text/x-python",
   "name": "python",
   "nbconvert_exporter": "python",
   "pygments_lexer": "ipython2",
   "version": "2.7.11"
  }
 },
 "nbformat": 4,
 "nbformat_minor": 0
}
