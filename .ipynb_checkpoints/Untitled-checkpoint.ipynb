{
 "cells": [
  {
   "cell_type": "code",
   "execution_count": 1,
   "metadata": {
    "collapsed": false
   },
   "outputs": [],
   "source": [
    "from algebra_computacional.factories import *\n",
    "from algebra_computacional.parsers import *\n",
    "from IPython.core.debugger import Tracer\n",
    "set_trace = Tracer()"
   ]
  },
  {
   "cell_type": "code",
   "execution_count": 2,
   "metadata": {
    "collapsed": false
   },
   "outputs": [],
   "source": [
    "#set_trace()\n",
    "GF9 = GF(3,'a^2 - a - 1')\n",
    "#GF9_X = PolynomialFactory(GF9,'x')\n",
    "GF11_X = GaloisPolynomialFactory(11)\n",
    "GF9_X = GaloisPolynomialFactory(3,'a^2 - a - 1','x')"
   ]
  },
  {
   "cell_type": "code",
   "execution_count": null,
   "metadata": {
    "collapsed": false
   },
   "outputs": [],
   "source": [
    "#a = GF11_X('x^15 - 1')\n",
    "a = GF9_X('x^3 + x + a')\n",
    "b = GF9_X('(-2*a) x^2 + 1')\n",
    "\n",
    "print a\n",
    "print b"
   ]
  },
  {
   "cell_type": "code",
   "execution_count": null,
   "metadata": {
    "collapsed": false
   },
   "outputs": [],
   "source": [
    "SQFREE_a = a.squarefree()\n",
    "DISTINCT_a = a.distinctdegree()"
   ]
  },
  {
   "cell_type": "code",
   "execution_count": null,
   "metadata": {
    "collapsed": false
   },
   "outputs": [],
   "source": [
    "for x in SQFREE_a:\n",
    "    print str(x)\n",
    "for x in DISTINCT_a:\n",
    "    print str(x[0]), 'of degree', x[1]"
   ]
  },
  {
   "cell_type": "code",
   "execution_count": 3,
   "metadata": {
    "collapsed": false
   },
   "outputs": [],
   "source": [
    "#print a%b\n",
    "#set_trace()\n",
    "#print(a.gcd(b))\n",
    "R = GF9_X('(a) x^2 + 1')\n",
    "#print R\n",
    "ROP = GF9_X('(-a + 2) x + a')\n",
    "#print ROP\n",
    "#set_trace()\n"
   ]
  },
  {
   "cell_type": "code",
   "execution_count": null,
   "metadata": {
    "collapsed": false
   },
   "outputs": [],
   "source": [
    "c = b.coefficients[2]\n",
    "#set_trace()\n",
    "print c.inverse()\n",
    "print b\n",
    "\n",
    "\n",
    "print b.inverse()"
   ]
  },
  {
   "cell_type": "code",
   "execution_count": 15,
   "metadata": {
    "collapsed": false
   },
   "outputs": [
    {
     "name": "stdout",
     "output_type": "stream",
     "text": [
      "2a + 1x\n",
      "2a + 1x\n",
      "ax^2 + 2x\n",
      "x + 1\n",
      "a + 1\n",
      "2a + 1x + a + 1\n",
      "x + 2a + 1\n",
      "a\n"
     ]
    }
   ],
   "source": [
    "self = R\n",
    "rop = ROP\n",
    "if rop.is_zero():\n",
    "    raise ZeroDivisionError\n",
    "q = self.factory.zero()\n",
    "r = self\n",
    "while not r.is_zero() and r.degree() >= rop.degree():\n",
    "    t = self.factory.monomial(r.degree() - rop.degree(), r.leading_coefficient() * rop.leading_coefficient().inverse())\n",
    "    print t\n",
    "    q = q+t\n",
    "    print q\n",
    "    r = r - (t*rop)\n",
    "    print t*rop\n",
    "    print r"
   ]
  },
  {
   "cell_type": "code",
   "execution_count": 14,
   "metadata": {
    "collapsed": false
   },
   "outputs": [
    {
     "name": "stdout",
     "output_type": "stream",
     "text": [
      "2a + 1\n"
     ]
    }
   ],
   "source": [
    "print R.leading_coefficient()*ROP.leading_coefficient().inverse()"
   ]
  },
  {
   "cell_type": "code",
   "execution_count": null,
   "metadata": {
    "collapsed": false
   },
   "outputs": [],
   "source": [
    "c = GF9('a')\n",
    "d = GF9('a^2 + a')\n"
   ]
  },
  {
   "cell_type": "code",
   "execution_count": null,
   "metadata": {
    "collapsed": false
   },
   "outputs": [],
   "source": [
    "from algebra_computacional.factories import *\n",
    "from algebra_computacional.parsers import *\n",
    "from IPython.core.debugger import Tracer\n",
    "set_trace = Tracer()\n",
    "#set_trace()\n",
    "GF3 = GF(3)\n",
    "GF3_X = GaloisPolynomialFactory(3)\n",
    "a = GF3_X('x^2 + x + 2')\n",
    "b = GF3_X('x^2 + 2x + 2')\n",
    "#c = GF3('a^2 + a')\n",
    "#set_trace()\n",
    "#print a/b"
   ]
  },
  {
   "cell_type": "code",
   "execution_count": null,
   "metadata": {
    "collapsed": false
   },
   "outputs": [],
   "source": [
    "equations = [(GF3_X('x + 1'),a),(GF3_X('2x'),b)]"
   ]
  },
  {
   "cell_type": "code",
   "execution_count": null,
   "metadata": {
    "collapsed": false
   },
   "outputs": [],
   "source": [
    "ret = PolynomialOverGalois.chinese_remainder(equations)"
   ]
  },
  {
   "cell_type": "code",
   "execution_count": null,
   "metadata": {
    "collapsed": false
   },
   "outputs": [],
   "source": [
    "str(ret)"
   ]
  },
  {
   "cell_type": "code",
   "execution_count": null,
   "metadata": {
    "collapsed": false
   },
   "outputs": [],
   "source": [
    "Gauss = GaussianIntegerFactory()"
   ]
  },
  {
   "cell_type": "code",
   "execution_count": null,
   "metadata": {
    "collapsed": false
   },
   "outputs": [],
   "source": [
    "aux = Gauss('135 - 14i')\n",
    "aux2 = Gauss('155 + 34i')"
   ]
  },
  {
   "cell_type": "code",
   "execution_count": null,
   "metadata": {
    "collapsed": false
   },
   "outputs": [],
   "source": [
    "str(aux * aux2.conjugate())"
   ]
  },
  {
   "cell_type": "code",
   "execution_count": null,
   "metadata": {
    "collapsed": false
   },
   "outputs": [],
   "source": [
    "set_trace()\n",
    "g, u, v = aux.eea(aux2)"
   ]
  },
  {
   "cell_type": "code",
   "execution_count": null,
   "metadata": {
    "collapsed": false
   },
   "outputs": [],
   "source": [
    "print g"
   ]
  },
  {
   "cell_type": "code",
   "execution_count": null,
   "metadata": {
    "collapsed": true
   },
   "outputs": [],
   "source": []
  }
 ],
 "metadata": {
  "kernelspec": {
   "display_name": "Python 2",
   "language": "python",
   "name": "python2"
  },
  "language_info": {
   "codemirror_mode": {
    "name": "ipython",
    "version": 2
   },
   "file_extension": ".py",
   "mimetype": "text/x-python",
   "name": "python",
   "nbconvert_exporter": "python",
   "pygments_lexer": "ipython2",
   "version": "2.7.11"
  }
 },
 "nbformat": 4,
 "nbformat_minor": 0
}
