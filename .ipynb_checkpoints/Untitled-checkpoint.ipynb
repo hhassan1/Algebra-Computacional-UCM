{
 "cells": [
  {
   "cell_type": "code",
   "execution_count": 6,
   "metadata": {
    "collapsed": false
   },
   "outputs": [],
   "source": [
    "from algebra_computacional.factories import *\n",
    "from algebra_computacional.parsers import *\n",
    "from IPython.core.debugger import Tracer\n",
    "set_trace = Tracer()"
   ]
  },
  {
   "cell_type": "code",
   "execution_count": 7,
   "metadata": {
    "collapsed": false
   },
   "outputs": [],
   "source": [
    "#set_trace()\n",
    "GF9 = GF(3,'a^2 - a - 1')\n",
    "#GF9_X = PolynomialFactory(GF9,'x')\n",
    "GF11_X = GaloisPolynomialFactory(11)\n",
    "GF9_X = GaloisPolynomialFactory(3,'a^2 - a - 1','x')"
   ]
  },
  {
   "cell_type": "code",
   "execution_count": 8,
   "metadata": {
    "collapsed": false
   },
   "outputs": [
    {
     "name": "stdout",
     "output_type": "stream",
     "text": [
      "2a + 1x^3 + a 2a + 1\n"
     ]
    }
   ],
   "source": [
    "#a = GF11_X('x^15 - 1')\n",
    "a = GF9_X('(a^2 + a)x^3 + a')\n",
    "b = GF9_X('a^2 + a')\n",
    "print str(a), str(b)"
   ]
  },
  {
   "cell_type": "code",
   "execution_count": 9,
   "metadata": {
    "collapsed": false
   },
   "outputs": [],
   "source": [
    "SQFREE_a = a.squarefree()\n",
    "DISTINCT_a = a.distinctdegree()"
   ]
  },
  {
   "cell_type": "code",
   "execution_count": 10,
   "metadata": {
    "collapsed": false
   },
   "outputs": [
    {
     "name": "stdout",
     "output_type": "stream",
     "text": [
      "1\n",
      "1\n",
      "2a + 1x + a\n",
      "x + a + 1 of degree 1\n",
      "2a + 1x^2 + ax + a + 2 of degree 2\n"
     ]
    }
   ],
   "source": [
    "for x in SQFREE_a:\n",
    "    print str(x)\n",
    "for x in DISTINCT_a:\n",
    "    print str(x[0]), 'of degree', x[1]"
   ]
  },
  {
   "cell_type": "code",
   "execution_count": null,
   "metadata": {
    "collapsed": false
   },
   "outputs": [],
   "source": [
    "set_trace()\n",
    "str(a/b)"
   ]
  },
  {
   "cell_type": "code",
   "execution_count": 4,
   "metadata": {
    "collapsed": false
   },
   "outputs": [],
   "source": [
    "c = GF9('a')\n",
    "d = GF9('a^2 + a')\n"
   ]
  },
  {
   "cell_type": "code",
   "execution_count": 1,
   "metadata": {
    "collapsed": false
   },
   "outputs": [],
   "source": [
    "from algebra_computacional.factories import *\n",
    "from algebra_computacional.parsers import *\n",
    "from IPython.core.debugger import Tracer\n",
    "set_trace = Tracer()\n",
    "#set_trace()\n",
    "GF9 = GF(3,'a^2 - a - 1')\n",
    "GF11_X = GaloisPolynomialFactory(11)\n",
    "GF9_X = GaloisPolynomialFactory(3,'a^2 - a - 1','x')\n",
    "a = GF9_X('x + a')\n",
    "b = GF9_X('a^2 + a')\n",
    "c = GF9('a^2 + a')\n",
    "#set_trace()\n",
    "#print a/b"
   ]
  },
  {
   "cell_type": "code",
   "execution_count": 5,
   "metadata": {
    "collapsed": false
   },
   "outputs": [
    {
     "name": "stdout",
     "output_type": "stream",
     "text": [
      "2ax + 2a + 2 ||||| 0\n"
     ]
    }
   ],
   "source": []
  },
  {
   "cell_type": "code",
   "execution_count": 22,
   "metadata": {
    "collapsed": false
   },
   "outputs": [],
   "source": [
    "g, u, v = c.value.eea(c.factory.quotient_factor)"
   ]
  },
  {
   "cell_type": "code",
   "execution_count": 25,
   "metadata": {
    "collapsed": false
   },
   "outputs": [
    {
     "name": "stdout",
     "output_type": "stream",
     "text": [
      "1\n"
     ]
    }
   ],
   "source": [
    "print v"
   ]
  },
  {
   "cell_type": "code",
   "execution_count": null,
   "metadata": {
    "collapsed": true
   },
   "outputs": [],
   "source": []
  }
 ],
 "metadata": {
  "kernelspec": {
   "display_name": "Python 2",
   "language": "python",
   "name": "python2"
  },
  "language_info": {
   "codemirror_mode": {
    "name": "ipython",
    "version": 2
   },
   "file_extension": ".py",
   "mimetype": "text/x-python",
   "name": "python",
   "nbconvert_exporter": "python",
   "pygments_lexer": "ipython2",
   "version": "2.7.11"
  }
 },
 "nbformat": 4,
 "nbformat_minor": 0
}
