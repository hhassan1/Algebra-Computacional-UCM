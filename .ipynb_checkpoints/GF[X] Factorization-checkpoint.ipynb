{
 "cells": [
  {
   "cell_type": "code",
   "execution_count": 1,
   "metadata": {
    "collapsed": false,
    "deletable": true,
    "editable": true
   },
   "outputs": [],
   "source": [
    "from algebra_computacional.factories import *\n",
    "from algebra_computacional.parsers import *"
   ]
  },
  {
   "cell_type": "code",
   "execution_count": 2,
   "metadata": {
    "collapsed": false,
    "deletable": true,
    "editable": true
   },
   "outputs": [],
   "source": [
    "#GF9_X = GaloisPolynomialFactory(3,'a^2 - a - 1','x')\n",
    "#a = GF9_X('x^3 + x^2 + x - a')\n",
    "GF7_X = GaloisPolynomialFactory(7)\n",
    "a = GF7_X('x^7 + 2x^5 + x^4 - 2x^3 + x^2 - 3x - 3')\n",
    "#GF3_X = GaloisPolynomialFactory(3)\n",
    "#a = GF3_X('x^2 - 1')"
   ]
  },
  {
   "cell_type": "code",
   "execution_count": 3,
   "metadata": {
    "collapsed": false,
    "deletable": true,
    "editable": true,
    "scrolled": false
   },
   "outputs": [
    {
     "name": "stdout",
     "output_type": "stream",
     "text": [
      "(x^4 + x^2 + 2) with multiplicity 1\n",
      "(x^3 + x + 1) with multiplicity 1\n"
     ]
    }
   ],
   "source": [
    "for x in a.factors1(tuplify=True):\n",
    "    print x[0], 'with multiplicity', x[1]"
   ]
  },
  {
   "cell_type": "code",
   "execution_count": 4,
   "metadata": {
    "collapsed": false,
    "deletable": true,
    "editable": true
   },
   "outputs": [
    {
     "name": "stdout",
     "output_type": "stream",
     "text": [
      "(x^3 + x + 1) with multiplicity 1\n",
      "(x^4 + x^2 + 2) with multiplicity 1\n"
     ]
    }
   ],
   "source": [
    "for x in a.factors2(tuplify=True):\n",
    "    print x[0], 'with multiplicity', x[1]"
   ]
  },
  {
   "cell_type": "code",
   "execution_count": 5,
   "metadata": {
    "collapsed": false,
    "deletable": true,
    "editable": true
   },
   "outputs": [
    {
     "name": "stdout",
     "output_type": "stream",
     "text": [
      "(x^4 + x^2 + 2) with multiplicity 1\n",
      "(x^3 + x + 1) with multiplicity 1\n"
     ]
    }
   ],
   "source": [
    "for x in a.factors3(tuplify=True):\n",
    "    print x[0], 'with multiplicity', x[1]"
   ]
  },
  {
   "cell_type": "code",
   "execution_count": null,
   "metadata": {
    "collapsed": true,
    "deletable": true,
    "editable": true
   },
   "outputs": [],
   "source": []
  }
 ],
 "metadata": {
  "kernelspec": {
   "display_name": "Python 2",
   "language": "python",
   "name": "python2"
  },
  "language_info": {
   "codemirror_mode": {
    "name": "ipython",
    "version": 2
   },
   "file_extension": ".py",
   "mimetype": "text/x-python",
   "name": "python",
   "nbconvert_exporter": "python",
   "pygments_lexer": "ipython2",
   "version": "2.7.6"
  }
 },
 "nbformat": 4,
 "nbformat_minor": 0
}
