{
 "cells": [
  {
   "cell_type": "code",
   "execution_count": 1,
   "metadata": {
    "collapsed": true
   },
   "outputs": [],
   "source": [
    "from algebra_computacional.factories import *\n",
    "from algebra_computacional.parsers import *\n",
    "Z = IntegerFactory()\n",
    "GF3_X = GaloisPolynomialFactory(3)\n",
    "F3X = GF3_X.product"
   ]
  },
  {
   "cell_type": "code",
   "execution_count": 2,
   "metadata": {
    "collapsed": false
   },
   "outputs": [
    {
     "data": {
      "text/plain": [
       "23"
      ]
     },
     "execution_count": 2,
     "metadata": {},
     "output_type": "execute_result"
    }
   ],
   "source": [
    "Integer.chinese_remainder([(Z(2),Z(3)),(Z(3),Z(5)),(Z(2),Z(7))])"
   ]
  },
  {
   "cell_type": "code",
   "execution_count": 4,
   "metadata": {
    "collapsed": false
   },
   "outputs": [
    {
     "name": "stdout",
     "output_type": "stream",
     "text": [
      "(-x^8 + x^7 - x^5 - x^4 - x^2 + x) mod (x^3 - x + 1) == (x^2 + 1)\n",
      "(-x^8 + x^7 - x^5 - x^4 - x^2 + x) mod (x^3 + x^2 - x + 1) == (x - 1)\n",
      "(-x^8 + x^7 - x^5 - x^4 - x^2 + x) mod (x^3 - x^2 + 1) == (x^2 - x + 1)\n"
     ]
    }
   ],
   "source": [
    "l = [(GF3_X('x^2 + 1'),GF3_X('x^3 + 2x + 1')),\n",
    "     (GF3_X('x + -1'),GF3_X('x^3 + x^2 + 2x + 1')),\n",
    "     (GF3_X('x^2 -x + 1'),GF3_X('x^3 + 2x^2 + 1'))]\n",
    "result = F3X.chinese_remainder(l)\n",
    "for (n,p) in l:\n",
    "    print result,'mod',p,'==', result%p"
   ]
  }
 ],
 "metadata": {
  "kernelspec": {
   "display_name": "Python 2",
   "language": "python",
   "name": "python2"
  },
  "language_info": {
   "codemirror_mode": {
    "name": "ipython",
    "version": 2
   },
   "file_extension": ".py",
   "mimetype": "text/x-python",
   "name": "python",
   "nbconvert_exporter": "python",
   "pygments_lexer": "ipython2",
   "version": "2.7.11"
  }
 },
 "nbformat": 4,
 "nbformat_minor": 0
}
