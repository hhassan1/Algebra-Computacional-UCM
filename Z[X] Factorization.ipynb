{
 "cells": [
  {
   "cell_type": "code",
   "execution_count": 1,
   "metadata": {
    "collapsed": false,
    "deletable": true,
    "editable": true
   },
   "outputs": [],
   "source": [
    "from algebra_computacional.factories import *\n",
    "from algebra_computacional.parsers import *"
   ]
  },
  {
   "cell_type": "code",
   "execution_count": 2,
   "metadata": {
    "collapsed": false,
    "deletable": true,
    "editable": true
   },
   "outputs": [
    {
     "name": "stdout",
     "output_type": "stream",
     "text": [
      "(x^3 + x + 1) with multiplicity 1\n",
      "(x^4 + x^2 - 3) with multiplicity 1\n"
     ]
    }
   ],
   "source": [
    "a = Z_X('x^7 + 2x^5 + x^4 - 2x^3 + x^2 - 3x - 3')\n",
    "b = a.factors(tuplify=True)\n",
    "for x in b:\n",
    "    print x[0], 'with multiplicity', x[1]"
   ]
  },
  {
   "cell_type": "code",
   "execution_count": 3,
   "metadata": {
    "collapsed": false,
    "deletable": true,
    "editable": true,
    "scrolled": false
   },
   "outputs": [
    {
     "name": "stdout",
     "output_type": "stream",
     "text": [
      "(x + 1) with multiplicity 1\n",
      "(x - 1) with multiplicity 1\n"
     ]
    }
   ],
   "source": [
    "a = Z_X('x^2 - 1')\n",
    "b = a.factors(tuplify=True)\n",
    "for x in b:\n",
    "    print x[0], 'with multiplicity', x[1]"
   ]
  },
  {
   "cell_type": "code",
   "execution_count": 4,
   "metadata": {
    "collapsed": false,
    "deletable": true,
    "editable": true
   },
   "outputs": [
    {
     "name": "stdout",
     "output_type": "stream",
     "text": [
      "(x^2 + 1) with multiplicity 2\n",
      "(x^4 + 1) with multiplicity 4\n"
     ]
    }
   ],
   "source": [
    "a = Z_X('((x^2 + 1)^2) * (x^4 + 1)^4 ')\n",
    "b = a.factors(tuplify=True)\n",
    "for x in b:\n",
    "    print x[0], 'with multiplicity', x[1]"
   ]
  }
 ],
 "metadata": {
  "kernelspec": {
   "display_name": "Python 2",
   "language": "python",
   "name": "python2"
  },
  "language_info": {
   "codemirror_mode": {
    "name": "ipython",
    "version": 2
   },
   "file_extension": ".py",
   "mimetype": "text/x-python",
   "name": "python",
   "nbconvert_exporter": "python",
   "pygments_lexer": "ipython2",
   "version": "2.7.11"
  }
 },
 "nbformat": 4,
 "nbformat_minor": 0
}
