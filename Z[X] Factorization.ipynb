{
 "cells": [
  {
   "cell_type": "code",
   "execution_count": 1,
   "metadata": {
    "collapsed": false
   },
   "outputs": [],
   "source": [
    "from algebra_computacional.factories import *\n",
    "from algebra_computacional.parsers import *"
   ]
  },
  {
   "cell_type": "code",
   "execution_count": 2,
   "metadata": {
    "collapsed": false
   },
   "outputs": [],
   "source": [
    "a = Z_X('x^7 + 2x^5 + x^4 - 2x^3 + x^2 - 3x - 3')"
   ]
  },
  {
   "cell_type": "code",
   "execution_count": null,
   "metadata": {
    "collapsed": false,
    "scrolled": true
   },
   "outputs": [
    {
     "name": "stdout",
     "output_type": "stream",
     "text": [
      "x^3 + x + 1\n",
      "x^4 + x^2 + 2\n",
      "-----\n",
      "g= x^4 + x^2 + 2\n",
      "h= x^3 + x + 1\n",
      "g*= 5x^6 + 10x^5 + x^4 + -5x^3 + x^2 + 2\n",
      "h*= x^3 + x + 1\n",
      "x^3 + x + 1\n",
      "5x^6 + 10x^5 + x^4 + -5x^3 + x^2 + 2\n",
      "-----\n"
     ]
    }
   ],
   "source": [
    "b = a.factors()\n",
    "for x in b:\n",
    "    print x"
   ]
  },
  {
   "cell_type": "code",
   "execution_count": null,
   "metadata": {
    "collapsed": false
   },
   "outputs": [],
   "source": [
    "GFX = GaloisPolynomialFactory(3)\n",
    "c = GFX('x^7 + 2x^5 + x^4 - 2x^3 + x^2 - 3x - 3')\n",
    "d = c.derivative()\n",
    "e = Z_X('x^7 + 2x^5 + x^4 - 2x^3 + x^2 - 3x - 3')\n",
    "f = Z_X('x^6 + x^4 + x^3 + -1x')\n",
    "print e.pea(f)\n"
   ]
  },
  {
   "cell_type": "code",
   "execution_count": null,
   "metadata": {
    "collapsed": true
   },
   "outputs": [],
   "source": []
  }
 ],
 "metadata": {
  "kernelspec": {
   "display_name": "Python 2",
   "language": "python",
   "name": "python2"
  },
  "language_info": {
   "codemirror_mode": {
    "name": "ipython",
    "version": 2
   },
   "file_extension": ".py",
   "mimetype": "text/x-python",
   "name": "python",
   "nbconvert_exporter": "python",
   "pygments_lexer": "ipython2",
   "version": "2.7.11"
  }
 },
 "nbformat": 4,
 "nbformat_minor": 0
}
