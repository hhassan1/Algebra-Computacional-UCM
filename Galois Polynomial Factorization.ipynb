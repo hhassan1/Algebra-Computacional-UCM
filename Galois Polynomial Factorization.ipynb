{
 "cells": [
  {
   "cell_type": "code",
   "execution_count": 1,
   "metadata": {
    "collapsed": false,
    "deletable": true,
    "editable": true
   },
   "outputs": [],
   "source": [
    "from algebra_computacional.factories import *\n",
    "from algebra_computacional.parsers import *"
   ]
  },
  {
   "cell_type": "code",
   "execution_count": 7,
   "metadata": {
    "collapsed": false,
    "deletable": true,
    "editable": true
   },
   "outputs": [],
   "source": [
    "#GF9_X = GaloisPolynomialFactory(3,'a^2 - a - 1','x')\n",
    "# = GF9_X('x^3 + x^2 + x - a')\n",
    "GF7_X = GaloisPolynomialFactory(7)\n",
    "a = GF7_X('x^7 + 2x^5 + x^4 - 2x^3 + x^2 - 3x - 3')"
   ]
  },
  {
   "cell_type": "code",
   "execution_count": 8,
   "metadata": {
    "collapsed": false,
    "deletable": true,
    "editable": true
   },
   "outputs": [
    {
     "name": "stdout",
     "output_type": "stream",
     "text": [
      "(x^2 - 3x - 2) with multiplicity 1\n",
      "(x^2 + 3x - 2) with multiplicity 1\n",
      "(x^3 + x + 1) with multiplicity 1\n"
     ]
    }
   ],
   "source": [
    "for x in a.factors1(tuplify=True):\n",
    "    print x[0], 'with multiplicity', x[1]"
   ]
  },
  {
   "cell_type": "code",
   "execution_count": 9,
   "metadata": {
    "collapsed": false,
    "deletable": true,
    "editable": true
   },
   "outputs": [
    {
     "name": "stdout",
     "output_type": "stream",
     "text": [
      "(x^2 - 3x - 2) with multiplicity 1\n",
      "(x^2 + 3x - 2) with multiplicity 1\n",
      "(x^3 + x + 1) with multiplicity 1\n"
     ]
    }
   ],
   "source": [
    "for x in a.factors2(tuplify=True):\n",
    "    print x[0], 'with multiplicity', x[1]"
   ]
  },
  {
   "cell_type": "code",
   "execution_count": 10,
   "metadata": {
    "collapsed": false,
    "deletable": true,
    "editable": true
   },
   "outputs": [
    {
     "name": "stdout",
     "output_type": "stream",
     "text": [
      "(x^2 + 3x - 2) with multiplicity 1\n",
      "(x^3 + x + 1) with multiplicity 1\n",
      "(x^2 - 3x - 2) with multiplicity 1\n"
     ]
    }
   ],
   "source": [
    "for x in a.factors3(tuplify=True):\n",
    "    print x[0], 'with multiplicity', x[1]"
   ]
  }
 ],
 "metadata": {
  "kernelspec": {
   "display_name": "Python 2",
   "language": "python",
   "name": "python2"
  },
  "language_info": {
   "codemirror_mode": {
    "name": "ipython",
    "version": 2
   },
   "file_extension": ".py",
   "mimetype": "text/x-python",
   "name": "python",
   "nbconvert_exporter": "python",
   "pygments_lexer": "ipython2",
   "version": "2.7.11"
  }
 },
 "nbformat": 4,
 "nbformat_minor": 0
}
