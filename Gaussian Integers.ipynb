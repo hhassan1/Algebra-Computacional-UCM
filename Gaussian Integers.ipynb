{
 "cells": [
  {
   "cell_type": "code",
   "execution_count": 2,
   "metadata": {
    "collapsed": true
   },
   "outputs": [],
   "source": [
    "from algebra_computacional.factories import *\n",
    "from algebra_computacional.parsers import *\n",
    "Gauss = GaussianIntegerFactory()"
   ]
  },
  {
   "cell_type": "code",
   "execution_count": 3,
   "metadata": {
    "collapsed": false
   },
   "outputs": [],
   "source": [
    "a = Gauss('135 - 14i')\n",
    "b = Gauss('155 + 34i')"
   ]
  },
  {
   "cell_type": "code",
   "execution_count": 4,
   "metadata": {
    "collapsed": false
   },
   "outputs": [
    {
     "name": "stdout",
     "output_type": "stream",
     "text": [
      "Q = (12i + 5)\n",
      "S = (-i - 7)\n",
      "T = (-i + 6)\n",
      "(12i + 5) = (-14i + 135) * (-i - 7) + (34i + 155) * (-i + 6)\n"
     ]
    }
   ],
   "source": [
    "g, u, v = a.eea(b)\n",
    "print 'Q =', g\n",
    "print 'S =', u\n",
    "print 'T =', v\n",
    "print a*u+b*v,'=',a,'*',u,'+',b,'*',v"
   ]
  }
 ],
 "metadata": {
  "kernelspec": {
   "display_name": "Python 2",
   "language": "python",
   "name": "python2"
  },
  "language_info": {
   "codemirror_mode": {
    "name": "ipython",
    "version": 2
   },
   "file_extension": ".py",
   "mimetype": "text/x-python",
   "name": "python",
   "nbconvert_exporter": "python",
   "pygments_lexer": "ipython2",
   "version": "2.7.11"
  }
 },
 "nbformat": 4,
 "nbformat_minor": 0
}
